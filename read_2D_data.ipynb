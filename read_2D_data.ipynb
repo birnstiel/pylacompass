{
 "cells": [
  {
   "cell_type": "markdown",
   "metadata": {},
   "source": [
    "# Read in in LA-COMPASS 2D data"
   ]
  },
  {
   "cell_type": "code",
   "execution_count": null,
   "metadata": {},
   "outputs": [],
   "source": [
    "import numpy as np\n",
    "\n",
    "import matplotlib.pyplot as plt\n",
    "from mpl_toolkits.axes_grid1.inset_locator import zoomed_inset_axes\n",
    "from mpl_toolkits.axes_grid1.inset_locator import mark_inset\n",
    "\n",
    "from pylacompass import read_data, read_hdf5_file\n",
    "\n",
    "%matplotlib inline\n",
    "plt.style.use({'figure.dpi': 150})"
   ]
  },
  {
   "cell_type": "markdown",
   "metadata": {},
   "source": [
    "## Reading data"
   ]
  },
  {
   "cell_type": "markdown",
   "metadata": {},
   "source": [
    "Set filename of the `hdf5` file"
   ]
  },
  {
   "cell_type": "code",
   "execution_count": null,
   "metadata": {},
   "outputs": [],
   "source": [
    "fname = 'data.hdf5'"
   ]
  },
  {
   "cell_type": "markdown",
   "metadata": {},
   "source": [
    "This reads in the specified directory from a sub-directory `bin_data`. The simulation parameters are parsed from the file given as `inputfile`. If keyword `fname` is given, we store the result in a hdf5 file with that name."
   ]
  },
  {
   "cell_type": "code",
   "execution_count": null,
   "metadata": {},
   "outputs": [],
   "source": [
    "d = read_data(directory='.', inputfile='planet2D.input.new', n=-1, fname=fname)"
   ]
  },
  {
   "cell_type": "markdown",
   "metadata": {},
   "source": [
    "Once the hdf5 file exists, we can also read from it. By default that just opens the file and the data is read when needed. If everything is to be read at once into memory, pass the `lowmem=False` keyword."
   ]
  },
  {
   "cell_type": "code",
   "execution_count": null,
   "metadata": {},
   "outputs": [],
   "source": [
    "d, f5  = read_hdf5_file(fname, n=-1, lowmem=True)"
   ]
  },
  {
   "cell_type": "markdown",
   "metadata": {},
   "source": [
    "## 2D plot"
   ]
  },
  {
   "cell_type": "code",
   "execution_count": null,
   "metadata": {},
   "outputs": [],
   "source": [
    "f, ax = plt.subplots(figsize=(6, 5))\n",
    "\n",
    "cc = ax.pcolormesh(d.xy1, d.xy2, np.log10(d.sigma_d[:, :, 10].T + 1e-45), rasterized=True)\n",
    "plt.colorbar(cc)\n",
    "ax.set_aspect(1)\n",
    "\n",
    "axins = zoomed_inset_axes(ax, 4, loc=2, bbox_to_anchor=(0.2, 0.8), bbox_transform=ax.figure.transFigure)\n",
    "axins.pcolormesh(d.xy1, d.xy2, np.log10(d.sigma_d[:, :, 10].T + 1e-45), rasterized=True)\n",
    "axins.set_aspect(1)\n",
    "axins.set_xlim(1.1, 1.6)\n",
    "axins.set_ylim(0.0, 0.5)\n",
    "\n",
    "axins.axes.get_xaxis().set_visible(False)\n",
    "axins.axes.get_yaxis().set_visible(False)\n",
    "\n",
    "mark_inset(ax, axins, loc1=1, loc2=3, fc='none', ec='0.5')\n",
    "\n",
    "f.savefig('xy.pdf')"
   ]
  },
  {
   "cell_type": "markdown",
   "metadata": {},
   "source": [
    "### Plot 1D (azimuthally averaged) gas and total dust"
   ]
  },
  {
   "cell_type": "code",
   "execution_count": null,
   "metadata": {},
   "outputs": [],
   "source": [
    "f, ax = plt.subplots()\n",
    "ax.loglog(d.x, d.sigma_g[:, :].mean(1), label='gas')\n",
    "ax.loglog(d.x, d.sigma_d[:, :, :].sum(-1).mean(-1), label='dust')\n",
    "ax.set_xlabel('radius')\n",
    "ax.set_ylabel('$\\Sigma$ [g cm$^{-2}$]')\n",
    "ax.set_ylim(1e-4, 1e3)\n",
    "f.savefig('sigma_avg.pdf')"
   ]
  },
  {
   "cell_type": "markdown",
   "metadata": {},
   "source": [
    "## Plot azimuthally averaged size distribution"
   ]
  },
  {
   "cell_type": "markdown",
   "metadata": {},
   "source": [
    "define the particle size array"
   ]
  },
  {
   "cell_type": "code",
   "execution_count": null,
   "metadata": {},
   "outputs": [],
   "source": [
    "a = np.logspace(\n",
    "    np.log10(d['params']['size_of_dust']),\n",
    "    np.log10(d['params']['size_of_dust_mx']),\n",
    "    d['params']['nDust']\n",
    "    )\n",
    "\n",
    "r  = 1.3\n",
    "ir = d.x[()].searchsorted(r)\n",
    "\n",
    "f, ax = plt.subplots()\n",
    "ax.loglog(a, d.sigma_d[ir, :, :].mean(0))\n",
    "ax.set_xlabel('particle size [cm]')\n",
    "ax.set_ylabel('$\\sigma$ [g cm$^{-2}$]')\n",
    "ax.set_ylim(1e-10, 1e-1)\n",
    "f.savefig('size_at_{:.2g}.pdf'.format(r))"
   ]
  },
  {
   "cell_type": "markdown",
   "metadata": {},
   "source": [
    "Close the hdf5-file"
   ]
  },
  {
   "cell_type": "code",
   "execution_count": null,
   "metadata": {},
   "outputs": [],
   "source": [
    "f5.close()"
   ]
  }
 ],
 "metadata": {
  "kernelspec": {
   "display_name": "Python 3",
   "language": "python",
   "name": "python3"
  },
  "language_info": {
   "codemirror_mode": {
    "name": "ipython",
    "version": 3
   },
   "file_extension": ".py",
   "mimetype": "text/x-python",
   "name": "python",
   "nbconvert_exporter": "python",
   "pygments_lexer": "ipython3",
   "version": "3.6.5"
  }
 },
 "nbformat": 4,
 "nbformat_minor": 2
}
