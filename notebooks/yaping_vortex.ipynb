{
 "cells": [
  {
   "cell_type": "markdown",
   "metadata": {},
   "source": [
    "# Read in in LA-COMPASS 2D data"
   ]
  },
  {
   "cell_type": "code",
   "execution_count": null,
   "metadata": {},
   "outputs": [],
   "source": [
    "import numpy as np\n",
    "import matplotlib.pyplot as plt\n",
    "import astropy.units as u\n",
    "import astropy.constants as c\n",
    "\n",
    "from pathlib import Path\n",
    "\n",
    "from pylacompass import read_data, read_hdf5_file, twod_plot, read_torqfile, convert_to_cgs, get_snapshot_numbers\n",
    "\n",
    "au = c.au.cgs.value\n",
    "yr = (u.yr).to(u.s)\n",
    "\n",
    "%matplotlib inline"
   ]
  },
  {
   "cell_type": "code",
   "execution_count": null,
   "metadata": {},
   "outputs": [],
   "source": [
    "plt.style.use({'figure.dpi': 150})\n",
    "figopts = dict(facecolor='none', transparent=True, dpi=300, bbox_inches='tight')"
   ]
  },
  {
   "cell_type": "markdown",
   "metadata": {},
   "source": [
    "## Reading data"
   ]
  },
  {
   "cell_type": "markdown",
   "metadata": {},
   "source": [
    "Set filename of the `hdf5` file"
   ]
  },
  {
   "cell_type": "code",
   "execution_count": null,
   "metadata": {},
   "outputs": [],
   "source": [
    "dirname = '/scratch/users/birnstiel/vortex'\n",
    "n = 200\n",
    "fname = str(Path(dirname)/'data_yaping.hdf5')"
   ]
  },
  {
   "cell_type": "markdown",
   "metadata": {},
   "source": [
    "This reads in the specified directory from a sub-directory `bin_data`. The simulation parameters are parsed from the file given as `inputfile`. If keyword `fname` is given, we store the result in a hdf5 file with that name."
   ]
  },
  {
   "cell_type": "code",
   "execution_count": null,
   "metadata": {},
   "outputs": [],
   "source": [
    "d = read_data(directory=dirname, inputfile='planet2D.input.new', n=n, fname=fname, gridfile=f'{dirname}/log_grid.dat')"
   ]
  },
  {
   "cell_type": "code",
   "execution_count": null,
   "metadata": {},
   "outputs": [],
   "source": [
    "get_snapshot_numbers(fname)"
   ]
  },
  {
   "cell_type": "markdown",
   "metadata": {},
   "source": [
    "Once the hdf5 file exists, we can also read from it. By default that just opens the file and the data is read when needed. If everything is to be read at once into memory, pass the `lowmem=False` keyword."
   ]
  },
  {
   "cell_type": "code",
   "execution_count": null,
   "metadata": {
    "scrolled": true
   },
   "outputs": [],
   "source": [
    "d, f5  = read_hdf5_file(fname, n=n, lowmem=False)"
   ]
  },
  {
   "cell_type": "markdown",
   "metadata": {},
   "source": [
    "Convert to cgs units"
   ]
  },
  {
   "cell_type": "code",
   "execution_count": null,
   "metadata": {},
   "outputs": [],
   "source": [
    "dcgs = convert_to_cgs(d)"
   ]
  },
  {
   "cell_type": "markdown",
   "metadata": {},
   "source": [
    "Also read the torq file"
   ]
  },
  {
   "cell_type": "code",
   "execution_count": null,
   "metadata": {},
   "outputs": [],
   "source": [
    "dt = read_torqfile(d, Path(dirname) / 'torq1d.dat')"
   ]
  },
  {
   "cell_type": "markdown",
   "metadata": {},
   "source": [
    "# Find largest particle size\n",
    "\n",
    "**Note:** some of the methods used here require `d.sigma_d` to be a numpy array. If you used the `lowmem` keyword of `read_hdf5_file`, then you need to replace `d.sigma_d` with a "
   ]
  },
  {
   "cell_type": "code",
   "execution_count": null,
   "metadata": {},
   "outputs": [],
   "source": [
    "# define a boolean condition to determine whether the bin is considered filled or empty\n",
    "\n",
    "cond = d.sigma_d / (np.sum(d.sigma_d,-1)[:, :, None] + 1e-45) > 1e-10\n",
    "\n",
    "# find the last filled index (argmax finds the first maximum, so we invert the array)\n",
    "\n",
    "max_index = cond.shape[-1] - cond[:, :, ::-1].argmax(-1) - 1\n",
    "\n",
    "a_max = d.a[max_index]"
   ]
  },
  {
   "cell_type": "markdown",
   "metadata": {},
   "source": [
    "## Prepare plotting"
   ]
  },
  {
   "cell_type": "markdown",
   "metadata": {},
   "source": [
    "set regions for the zoom by calculating where the planet should be"
   ]
  },
  {
   "cell_type": "code",
   "execution_count": null,
   "metadata": {},
   "outputs": [],
   "source": [
    "r_pl = dcgs.params['r0_pl'] * dcgs.r_unit  # planet semi-major axis\n",
    "omega_pl = np.interp(r_pl, dcgs.x, dcgs.v_k) / r_pl  # planet angular velocity\n",
    "\n",
    "phi = omega_pl * dcgs.time\n",
    "x = r_pl * np.cos(phi) / au\n",
    "y = r_pl * np.sin(phi) / au\n",
    "\n",
    "# for some reason this is not working will set x and y by hand for now\n",
    "\n",
    "x = 25\n",
    "y = 28\n",
    "r = np.sqrt(x**2+y**2)\n",
    "dr = 5\n",
    "phi = np.arctan2(y, x)\n",
    "\n",
    "ix0 = dcgs.x.searchsorted((r - 2 * dr) * au)\n",
    "ix1 = dcgs.x.searchsorted((r + 2 * dr) * au)\n",
    "\n",
    "iy0 = dcgs.y.searchsorted(phi - 2 * dr / r)\n",
    "iy1 = dcgs.y.searchsorted(phi + 2 * dr / r)\n",
    "\n",
    "region = [x - dr, x + dr, y - dr, y + dr]\n",
    "zoom = 5"
   ]
  },
  {
   "cell_type": "code",
   "execution_count": null,
   "metadata": {},
   "outputs": [],
   "source": [
    "def fixplot(f1, title):\n",
    "    \"Function to fine tune most plots in this notebook\"\n",
    "    ax = f1.get_axes()[0]\n",
    "    cb = f1.get_axes()[-1]\n",
    "    #ax.set_axis_off()\n",
    "    ax.set_xlabel('x [au]')\n",
    "    ax.set_ylabel('y [au]')\n",
    "    cb.set_title(title)\n",
    "    \n",
    "    r = 100\n",
    "    ax.set_xlim(-r, r)\n",
    "    ax.set_ylim(-r, r)"
   ]
  },
  {
   "cell_type": "markdown",
   "metadata": {},
   "source": [
    "## Gas Surface Density"
   ]
  },
  {
   "cell_type": "code",
   "execution_count": null,
   "metadata": {},
   "outputs": [],
   "source": [
    "f1 = twod_plot(dcgs, dcgs.sigma_g, zoom=zoom, region=region, r_unit=au, cb_orientation='horizontal')\n",
    "fixplot(f1, r'$\\log \\Sigma_\\mathrm{gas}$ [g cm$^{-2}$]')\n",
    "ax = f1.get_axes()[0]\n",
    "f1.savefig('xy_gas.pdf', **figopts)"
   ]
  },
  {
   "cell_type": "markdown",
   "metadata": {},
   "source": [
    "## Total Dust Surface Density"
   ]
  },
  {
   "cell_type": "code",
   "execution_count": null,
   "metadata": {},
   "outputs": [],
   "source": [
    "sig_d_t = dcgs.sigma_d.sum(-1)"
   ]
  },
  {
   "cell_type": "code",
   "execution_count": null,
   "metadata": {},
   "outputs": [],
   "source": [
    "f1 = twod_plot(dcgs, sig_d_t, zoom=zoom, region=region, r_unit=au, cb_orientation='horizontal')\n",
    "fixplot(f1, r'$\\log \\Sigma_\\mathrm{dust}$ [g cm$^{-2}$]')\n",
    "f1.savefig('xy_dust.pdf', **figopts)"
   ]
  },
  {
   "cell_type": "code",
   "execution_count": null,
   "metadata": {},
   "outputs": [],
   "source": [
    "# plot dust surface density\n",
    "f, ax = plt.subplots(figsize=(5,5))\n",
    "ax.pcolormesh(dcgs.xy1[iy0:iy1,ix0:ix1] / au, dcgs.xy2[iy0:iy1,ix0:ix1] / au, np.log10(sig_d_t[ix0:ix1,iy0:iy1].T+1e-5),rasterized=True)\n",
    "ax.set_xlim([x - dr, x + dr])\n",
    "ax.set_ylim([y - dr, y + dr])\n",
    "ax.set_aspect('equal')\n",
    "ax.set_xticks([])\n",
    "ax.set_yticks([])\n",
    "f.savefig('xy_dust_zoom.pdf', **figopts)"
   ]
  },
  {
   "cell_type": "markdown",
   "metadata": {},
   "source": [
    "### Quiver Plot"
   ]
  },
  {
   "cell_type": "code",
   "execution_count": null,
   "metadata": {},
   "outputs": [],
   "source": [
    "def get_vxy(d):\n",
    "    \"\"\"\n",
    "    Calculate the gas x,y velocity minus the Keplerian velocity (of every radius)\n",
    "    \"\"\"\n",
    "    PHI = (np.arctan2(d.xy2,d.xy1)+2*np.pi)%(2*np.pi)\n",
    "    vr  = d.vr_g.T\n",
    "    vp  = d.vp_g.T\n",
    "    \n",
    "    vk = dcgs.v_k[None,:]\n",
    "\n",
    "    vx  = vr * np.cos(PHI) - (vp-vk) * np.sin(PHI)\n",
    "    vy  = vr * np.sin(PHI) + (vp-vk) * np.cos(PHI)\n",
    "    \n",
    "    return vx.T, vy.T\n",
    "\n",
    "vx, vy = get_vxy(dcgs)\n",
    "\n",
    "\n",
    "# plot velocity\n",
    "st = 8\n",
    "f, ax = plt.subplots()\n",
    "ax.pcolormesh(dcgs.xy1[iy0:iy1,ix0:ix1] / au, dcgs.xy2[iy0:iy1,ix0:ix1] / au, np.log10(sig_d_t[ix0:ix1,iy0:iy1].T+1e-5),rasterized=True)\n",
    "ax.quiver(dcgs.xy1[iy0:iy1:st,ix0:ix1:st] / au, dcgs.xy2[iy0:iy1:st,ix0:ix1:st] / au,\n",
    "          vx[ix0:ix1:st,iy0:iy1:st].T / au, vy[ix0:ix1:st,iy0:iy1:st].T / au,\n",
    "         angles='xy', scale_units='xy', scale=None)\n",
    "#              )\n",
    "ax.set_xlim([x - dr, x + dr])\n",
    "ax.set_ylim([y - dr, y + dr])\n",
    "ax.set_xticks([])\n",
    "ax.set_yticks([])\n",
    "ax.set_aspect('equal')\n",
    "f.savefig('xy_dust_zoom_quiver.pdf', **figopts)"
   ]
  },
  {
   "cell_type": "markdown",
   "metadata": {},
   "source": [
    "### Plot optical depth"
   ]
  },
  {
   "cell_type": "code",
   "execution_count": null,
   "metadata": {},
   "outputs": [],
   "source": [
    "import dsharp_opac as op\n",
    "from scipy.interpolate import interp2d\n",
    "\n",
    "lam0 = 0.125\n",
    "\n",
    "# load opacity\n",
    "\n",
    "with np.load(op.get_datafile('default_opacities.npz')) as f:\n",
    "    a     = f['a']\n",
    "    lam   = f['lam']\n",
    "    k_abs = f['k_abs']\n",
    "    rho_s = f['rho_s']\n",
    "\n",
    "# interpolate on our size grid\n",
    "\n",
    "f_opac = interp2d(np.log10(lam), np.log10(a), np.log10(k_abs))\n",
    "opac = 10.**f_opac(np.log10(lam0), np.log10(dcgs.a))\n",
    "\n",
    "# calculate optical depth\n",
    "\n",
    "tau = (dcgs.sigma_d * opac[:,0]).sum(-1)"
   ]
  },
  {
   "cell_type": "code",
   "execution_count": null,
   "metadata": {},
   "outputs": [],
   "source": [
    "# plot optical depth\n",
    "f, ax = plt.subplots(figsize=(6,6))\n",
    "ax.set_aspect('equal')\n",
    "cc=ax.pcolormesh(dcgs.xy1[iy0:iy1,ix0:ix1] / au, dcgs.xy2[iy0:iy1,ix0:ix1] / au, np.log10(tau[ix0:ix1,iy0:iy1].T+1e-5),\n",
    "              rasterized=True,vmin=-2,vmax=0)\n",
    "p = ax.get_position()\n",
    "cax = f.add_axes([p.x0,p.y1,p.width,p.height/20])\n",
    "cb=plt.colorbar(mappable=cc,cax=cax,extend='both',orientation='horizontal')\n",
    "cb.set_label(r'$\\tau$' + f' at {10*lam0:2.0g} mm')\n",
    "cb.ax.xaxis.set_ticks_position('top')\n",
    "cb.ax.xaxis.set_label_position('top')\n",
    "ax.set_xlim([x - dr, x + dr])\n",
    "ax.set_ylim([y - dr, y + dr])\n",
    "ax.set_xticks([])\n",
    "ax.set_yticks([])\n",
    "f.savefig('tau.pdf', **figopts)"
   ]
  },
  {
   "cell_type": "markdown",
   "metadata": {},
   "source": [
    "## Dust surface density of particles $\\geq X$ "
   ]
  },
  {
   "cell_type": "code",
   "execution_count": null,
   "metadata": {},
   "outputs": [],
   "source": [
    "X  = 0.3 # minimum particle size in cm\n",
    "ia = d.a.searchsorted(X)\n",
    "f1 = twod_plot(dcgs, dcgs.sigma_d[:, :, ia:].sum(-1), zoom=zoom, region=region, r_unit=au, cb_orientation='horizontal')\n",
    "fixplot(f1, f'$\\log \\Sigma_\\mathrm{{dust}}$ (a > {10 * X:.1g} mm) [g cm$^{{-2}}$]')\n",
    "f1.savefig('xy_mm.pdf', **figopts)"
   ]
  },
  {
   "cell_type": "markdown",
   "metadata": {},
   "source": [
    "### Plot $a_\\mathrm{max}$"
   ]
  },
  {
   "cell_type": "code",
   "execution_count": null,
   "metadata": {},
   "outputs": [],
   "source": [
    "# plot a_max\n",
    "f, ax = plt.subplots()\n",
    "cc = ax.pcolormesh(dcgs.xy1[iy0:iy1,ix0:ix1] / au, dcgs.xy2[iy0:iy1,ix0:ix1] / au, np.log10(a_max[ix0:ix1,iy0:iy1].T),\n",
    "              rasterized=True,\n",
    "              vmin=-2, vmax=np.log10(0.4),\n",
    "              #edgecolor='0.5', linewidth=.1\n",
    "              )\n",
    "ax.set_xlim([x - dr, x + dr])\n",
    "ax.set_ylim([y - dr, y + dr])\n",
    "ax.set_aspect('equal')\n",
    "plt.colorbar(cc);"
   ]
  },
  {
   "cell_type": "code",
   "execution_count": null,
   "metadata": {},
   "outputs": [],
   "source": [
    "f3 = twod_plot(dcgs, a_max, zoom=20, region=region, r_unit=au, pos='r', cb_orientation='horizontal')\n",
    "fixplot(f3, 'max. particle size [cm]')\n",
    "f3.savefig('a_max.pdf', **figopts)"
   ]
  },
  {
   "cell_type": "markdown",
   "metadata": {},
   "source": [
    "### Plot 1D (azimuthally averaged) gas and total dust"
   ]
  },
  {
   "cell_type": "code",
   "execution_count": null,
   "metadata": {},
   "outputs": [],
   "source": [
    "f, ax = plt.subplots()\n",
    "ax.loglog(dcgs.x / au, dcgs.sigma_g[:, :].mean(1), label='gas')\n",
    "ax.loglog(dcgs.x / au, dcgs.sigma_d[:, :, :].sum(-1).mean(-1), label='dust')\n",
    "for phi in [0, 90, 180, 270]:\n",
    "    iphi = dcgs.y.searchsorted(phi/180*np.pi)\n",
    "    ax.loglog(dcgs.x / au, dcgs.sigma_d[:, iphi, :].sum(-1), label=f'radial slice at {dcgs.y[iphi]/np.pi:.2g} $\\pi$')\n",
    "ax.set_xlabel('radius')\n",
    "ax.set_ylabel('$\\Sigma$ [g cm$^{-2}$]')\n",
    "ax.legend(fontsize='small')\n",
    "#ax.set_ylim(1e-4, 1e3)\n",
    "f.savefig('sigma_avg.pdf')"
   ]
  },
  {
   "cell_type": "markdown",
   "metadata": {},
   "source": [
    "### Plot azimuthally averaged size distribution"
   ]
  },
  {
   "cell_type": "code",
   "execution_count": null,
   "metadata": {},
   "outputs": [],
   "source": [
    "r  = 1.5\n",
    "ir = d.x[()].searchsorted(r)\n",
    "\n",
    "f, ax = plt.subplots()\n",
    "ax.loglog(d.a, d.sigma_d[ir, :, :].mean(0))\n",
    "ax.set_xlabel('particle size [cm]')\n",
    "ax.set_ylabel('$\\sigma$ [g cm$^{-2}$]')\n",
    "ax.set_ylim(1e-10, 1e-1)\n",
    "f.savefig('size_at_{:.2g}.pdf'.format(r))"
   ]
  },
  {
   "cell_type": "markdown",
   "metadata": {},
   "source": [
    "### Check unit conversion and calculate Keplerian velocity"
   ]
  },
  {
   "cell_type": "markdown",
   "metadata": {},
   "source": [
    "Plot the $\\Sigma_\\mathrm{gas}$ to check conversion"
   ]
  },
  {
   "cell_type": "code",
   "execution_count": null,
   "metadata": {},
   "outputs": [],
   "source": [
    "f, ax = plt.subplots()\n",
    "ax.loglog(dcgs.x / au, dcgs.sigma_g.mean(-1), label='cgs data from binary')\n",
    "ax.loglog(dt.r / au, dt.sigma_g[dcgs.n], '--', label='from torq1d.dat')\n",
    "ax.set_xlabel('$r$ [au]')\n",
    "ax.set_ylabel('$\\Sigma_\\mathrm{gas}$ [g cm$^{-2}$]')\n",
    "ax.legend();"
   ]
  },
  {
   "cell_type": "markdown",
   "metadata": {},
   "source": [
    "### Plot the azimuthal gas velocity deviation"
   ]
  },
  {
   "cell_type": "markdown",
   "metadata": {},
   "source": [
    "Plot the radial profile to check conversion"
   ]
  },
  {
   "cell_type": "code",
   "execution_count": null,
   "metadata": {},
   "outputs": [],
   "source": [
    "f, ax = plt.subplots(2, 1, sharex=True, figsize=(6, 6))\n",
    "ax[0].loglog(dcgs.x / au, (dcgs.v_k * u.cm/u.s).to('km/s'))\n",
    "ax[0].loglog(dcgs.x / au, (dcgs.vp_g.mean(-1) * u.cm/u.s).to('km/s'))\n",
    "ax[1].semilogx(dcgs.x / au, (dcgs.vp_g.mean(-1)/dcgs.v_k - 1) * 100)\n",
    "ax[0].set_ylabel('$v_\\phi$ [km/s]')\n",
    "ax[1].set_ylabel('$\\delta v$ [%]')\n",
    "ax[1].set_xlabel('$r$ [au]');\n",
    "f.subplots_adjust(hspace=0);\n",
    "f.savefig('deltav.pdf')"
   ]
  },
  {
   "cell_type": "code",
   "execution_count": null,
   "metadata": {},
   "outputs": [],
   "source": [
    "f, ax = plt.subplots()\n",
    "ax.semilogx(dcgs.x / au, ((dcgs.vp_g.mean(-1)-dcgs.v_k) * u.cm/u.s).to('km/s'), label=r'$v_\\phi-v_k$')\n",
    "ax.semilogx(dcgs.x / au, (dcgs.vr_g.mean(-1) * u.cm/u.s).to('km/s'), label=r'$v_r$')\n",
    "ax.set_ylabel('$v$ [%]')\n",
    "ax.set_xlabel('$r$ [au]')\n",
    "ax.legend();"
   ]
  },
  {
   "cell_type": "markdown",
   "metadata": {},
   "source": [
    "### Create $\\delta v$ plot like in Teague et al. 2018"
   ]
  },
  {
   "cell_type": "code",
   "execution_count": null,
   "metadata": {},
   "outputs": [],
   "source": [
    "f = twod_plot(dcgs, 10**((dcgs.vp_g / dcgs.v_k[:, None] - 1) * 100), ec='0.3',\n",
    "              zoom=8, region=region, pos='r',\n",
    "              #fct='contourf', levels=np.arange(-6,6.5,0.5), extend='both'\n",
    "              vmin=-6,vmax=6,\n",
    "              cmap='RdBu_r', r_unit=au, cb_orientation='horizontal')\n",
    "ax = f.get_axes()[0]\n",
    "R = 2 * r_pl / au\n",
    "ax.set_xlim(-R, R)\n",
    "ax.set_ylim(-R, R)\n",
    "f.get_axes()[2].set_title('$\\delta v$ [%]')\n",
    "f.get_axes()[2].set_zorder(100)\n",
    "ax.set_xlabel('$x$ [au]')\n",
    "ax.set_ylabel('$y$ [au]')\n",
    "f.savefig('delta_vphi.pdf', **figopts)"
   ]
  },
  {
   "cell_type": "code",
   "execution_count": null,
   "metadata": {},
   "outputs": [],
   "source": [
    "# radial flow\n",
    "f = twod_plot(dcgs, 10**((dcgs.vr_g*u.cm/u.s).to('km/s').value), ec='0.3',\n",
    "              zoom=8, region=region, pos='r',\n",
    "              #fct='contourf', levels=np.linspace(-0.1, 0.1, 10), extend='both',\n",
    "              vmin=-0.1, vmax=0.1,\n",
    "              cmap='RdBu_r', r_unit=au, cb_orientation='horizontal')\n",
    "ax = f.get_axes()[0]\n",
    "R = 2 * r_pl / au\n",
    "ax.set_xlim(-R, R)\n",
    "ax.set_ylim(-R, R)\n",
    "f.get_axes()[2].set_title('$v_r$ [km/s]')\n",
    "f.get_axes()[2].set_zorder(100)\n",
    "ax.set_xlabel('$x$ [au]')\n",
    "ax.set_ylabel('$y$ [au]')\n",
    "f.savefig('delta_vr.pdf', **figopts)"
   ]
  },
  {
   "cell_type": "markdown",
   "metadata": {},
   "source": [
    "### Close the hdf5-file"
   ]
  },
  {
   "cell_type": "code",
   "execution_count": null,
   "metadata": {},
   "outputs": [],
   "source": [
    "f5.close()"
   ]
  },
  {
   "cell_type": "markdown",
   "metadata": {},
   "source": [
    "# Plots for Akimasa"
   ]
  },
  {
   "cell_type": "markdown",
   "metadata": {},
   "source": [
    "### Plot Azimuthal size distributions"
   ]
  },
  {
   "cell_type": "markdown",
   "metadata": {},
   "source": [
    "Load opacities and interpolate at given wavelength and particle size grid"
   ]
  },
  {
   "cell_type": "code",
   "execution_count": null,
   "metadata": {},
   "outputs": [],
   "source": [
    "import dsharp_opac as op\n",
    "\n",
    "with np.load(op.get_datafile('default_opacities.npz')) as f:\n",
    "    a = f['a']\n",
    "    lam = f['lam']\n",
    "    k_abs = f['k_abs']\n",
    "    \n",
    "lam_mm = 0.0870\n",
    "\n",
    "from scipy.interpolate import interp2d\n",
    "f_interp = interp2d(np.log10(a), np.log10(lam), np.log10(k_abs).T)\n",
    "kap = 10.**f_interp(np.log10(dcgs.a), np.log10(lam_mm))"
   ]
  },
  {
   "cell_type": "markdown",
   "metadata": {},
   "source": [
    "find the maximum outside the planet"
   ]
  },
  {
   "cell_type": "code",
   "execution_count": null,
   "metadata": {},
   "outputs": [],
   "source": [
    "sizes   = [1e-4, 1e-3, 1e-2, 1e-1]\n",
    "ip      = dcgs.x.searchsorted(r_pl)\n",
    "sig_d_t = dcgs.sigma_d.sum(-1).mean(-1)\n",
    "i_max   = ip + sig_d_t[ip:dcgs.x.searchsorted(2 * r_pl)].argmax()\n",
    "mask    = np.arange(i_max - 5, i_max + 6)"
   ]
  },
  {
   "cell_type": "markdown",
   "metadata": {},
   "source": [
    "Plot azimuthal distribution in dust surface density"
   ]
  },
  {
   "cell_type": "code",
   "execution_count": null,
   "metadata": {},
   "outputs": [],
   "source": [
    "f, ax = plt.subplots()\n",
    "ax.semilogy(dcgs.y, dcgs.sigma_g[mask, :].mean(0), label='gas')\n",
    "ax.semilogy(dcgs.y, dcgs.sigma_d.sum(-1)[mask, :].mean(0), label='total dust')\n",
    "\n",
    "arr1 = []\n",
    "arr2 = []\n",
    "\n",
    "for ia in range(len(sizes)-1):\n",
    "    ia0 = dcgs.a.searchsorted(sizes[ia])\n",
    "    ia1 = dcgs.a.searchsorted(sizes[ia + 1])\n",
    "    \n",
    "    arr1 += [dcgs.sigma_d[mask, :, ia0:ia1].sum(-1).mean(0)]\n",
    "    arr2 += [[ia0,ia1]]\n",
    "\n",
    "    ax.semilogy(dcgs.y, dcgs.sigma_d[mask, :, ia0:ia1].sum(-1).mean(0), label=f'{dcgs.a[ia0]:.2g} ... {dcgs.a[ia1]:.2g}')\n",
    "\n",
    "ax.set_xlabel('azimuth')\n",
    "ax.set_ylabel('$\\Sigma$ [g cm$^{-2}$]')\n",
    "ax.set_xticklabels(['0', r'$\\frac{\\pi}{2}$', r'$\\pi$', r'$\\frac{3}{2}\\, \\pi$', r'$2\\,\\pi$'])\n",
    "ax.set_xticks([0, np.pi/2, np.pi, 3/2*np.pi, 2*np.pi])\n",
    "ax.set_xlim(0, 2*np.pi)\n",
    "ax.legend()\n",
    "f.savefig('sigma_azi.pdf', transparent=True)\n",
    "\n",
    "np.savez_compressed('save.npz',{\n",
    "    'y':dcgs.y,\n",
    "    'sigma_rmean':np.array(arr1),\n",
    "    'a0':np.array(arr2)\n",
    "})"
   ]
  },
  {
   "cell_type": "markdown",
   "metadata": {},
   "source": [
    "Same plot but opacity weighted"
   ]
  },
  {
   "cell_type": "code",
   "execution_count": null,
   "metadata": {},
   "outputs": [],
   "source": [
    "f, ax = plt.subplots()\n",
    "ax.semilogy(dcgs.y, dcgs.sigma_g[mask, :].mean(0), label='gas surface density')\n",
    "ax.semilogy(dcgs.y, (dcgs.sigma_d * kap).sum(-1)[mask, :].mean(0), label='total optical depth')\n",
    "\n",
    "for ia in range(len(sizes)-1):\n",
    "    ia0 = dcgs.a.searchsorted(sizes[ia])\n",
    "    ia1 = dcgs.a.searchsorted(sizes[ia + 1])\n",
    "\n",
    "    ax.semilogy(dcgs.y, (dcgs.sigma_d * kap)[mask, :, ia0:ia1].sum(-1).mean(0), label=f'{dcgs.a[ia0]:.2g} ... {dcgs.a[ia1]:.2g}')\n",
    "\n",
    "ax.set_xlabel('azimuth')\n",
    "ax.set_ylabel(r'$\\Sigma$ [g cm$^{-2}$] / $\\tau$')\n",
    "ax.set_xticklabels(['0', r'$\\frac{\\pi}{2}$', r'$\\pi$', r'$\\frac{3}{2}\\, \\pi$', r'$2\\,\\pi$'])\n",
    "ax.set_xticks([0, np.pi/2, np.pi, 3/2*np.pi, 2*np.pi])\n",
    "ax.set_xlim(0, 2*np.pi)\n",
    "ax.legend()\n",
    "f.savefig('tau_azi.pdf', transparent=True)"
   ]
  },
  {
   "cell_type": "markdown",
   "metadata": {},
   "source": [
    "Opacity weighted grain size"
   ]
  },
  {
   "cell_type": "code",
   "execution_count": null,
   "metadata": {},
   "outputs": [],
   "source": [
    "a_bar = (dcgs.a * (1e-40 + dcgs.sigma_d[mask, :, :]) * kap).sum(-1) / ((1e-40 + dcgs.sigma_d[mask, :, :]) * kap).sum(-1)\n",
    "a_bar = a_bar.mean(0) "
   ]
  },
  {
   "cell_type": "code",
   "execution_count": null,
   "metadata": {},
   "outputs": [],
   "source": [
    "f, ax = plt.subplots()\n",
    "ax.semilogy(dcgs.y, dcgs.sigma_g[mask, :].mean(0) / dcgs.sigma_g[mask, :].mean(0).max(), label='gas surface density (normalized)')\n",
    "ax.semilogy(dcgs.y, a_bar, label=r'$\\bar a$')\n",
    "\n",
    "\n",
    "ax.set_xlabel('azimuth')\n",
    "ax.set_ylabel(r'$\\bar a$ [cm]')\n",
    "ax.set_xticklabels(['0', r'$\\frac{\\pi}{2}$', r'$\\pi$', r'$\\frac{3}{2}\\, \\pi$', r'$2\\,\\pi$'])\n",
    "ax.set_xticks([0, np.pi/2, np.pi, 3/2*np.pi, 2*np.pi])\n",
    "ax.set_xlim(0, 2*np.pi)\n",
    "ax.legend()\n",
    "f.savefig('a_bar.pdf')"
   ]
  },
  {
   "cell_type": "code",
   "execution_count": null,
   "metadata": {},
   "outputs": [],
   "source": [
    "cs2 = dcgs.r * dcgs.v_k* dcgs.params['AspectRatio'] * d.x**-dcgs.params['POWER_ZETA']\n",
    "T = cs2 / c.k_B.cgs.value * 2.3 * c.m_p.cgs.value\n",
    "plt.loglog(dcgs.x / au, T)"
   ]
  },
  {
   "cell_type": "code",
   "execution_count": null,
   "metadata": {},
   "outputs": [],
   "source": [
    "bnu = 2 * c.h * nu**3 / c.c**2 /(np.exp(h * nu / (c.k_B * dcgs.T)) - 1)"
   ]
  },
  {
   "cell_type": "code",
   "execution_count": null,
   "metadata": {},
   "outputs": [],
   "source": [
    "tau = (dcgs.sigma_d * kap).sum(-1)\n",
    "\n",
    "f1 = twod_plot(dcgs, tau, zoom=6, region=[-17, -13, -5, 7], bbox=(1.5, 0.5), r_unit=au, cb_orientation='horizontal', pos='r')\n",
    "fixplot(f1, f'$\\log \\\\tau_\\mathrm{{{lam_mm * 10:.2g}mm}}$')\n",
    "f1.savefig('tau.pdf', facecolor='none', transparent=True, dpi=300)"
   ]
  }
 ],
 "metadata": {
  "kernelspec": {
   "display_name": "Python 3",
   "language": "python",
   "name": "python3"
  },
  "language_info": {
   "codemirror_mode": {
    "name": "ipython",
    "version": 3
   },
   "file_extension": ".py",
   "mimetype": "text/x-python",
   "name": "python",
   "nbconvert_exporter": "python",
   "pygments_lexer": "ipython3",
   "version": "3.8.3"
  }
 },
 "nbformat": 4,
 "nbformat_minor": 4
}
