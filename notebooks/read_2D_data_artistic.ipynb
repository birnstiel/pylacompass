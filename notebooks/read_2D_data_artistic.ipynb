{
 "cells": [
  {
   "cell_type": "markdown",
   "metadata": {},
   "source": [
    "# Read in in LA-COMPASS 2D data"
   ]
  },
  {
   "cell_type": "code",
   "execution_count": null,
   "metadata": {},
   "outputs": [],
   "source": [
    "!cd ~/CODES/pylacompass && git pull"
   ]
  },
  {
   "cell_type": "code",
   "execution_count": null,
   "metadata": {},
   "outputs": [],
   "source": [
    "from pathlib import Path\n",
    "\n",
    "import numpy as np\n",
    "\n",
    "import matplotlib.pyplot as plt\n",
    "from matplotlib.colors import LinearSegmentedColormap\n",
    "import seaborn as sns\n",
    "\n",
    "import astropy.units as u\n",
    "import astropy.constants as c\n",
    "\n",
    "from scipy.interpolate import griddata\n",
    "\n",
    "from pylacompass import read_data, read_hdf5_file, twod_plot, read_torqfile, convert_to_cgs, get_snapshot_numbers\n",
    "\n",
    "au = c.au.cgs.value\n",
    "yr = (u.yr).to(u.s)\n",
    "\n",
    "%matplotlib inline\n",
    "plt.style.use({'figure.dpi': 150})"
   ]
  },
  {
   "cell_type": "markdown",
   "metadata": {},
   "source": [
    "## Reading data"
   ]
  },
  {
   "cell_type": "markdown",
   "metadata": {},
   "source": [
    "Set filename of the `hdf5` file"
   ]
  },
  {
   "cell_type": "code",
   "execution_count": null,
   "metadata": {},
   "outputs": [],
   "source": [
    "fname = 'data.hdf5'"
   ]
  },
  {
   "cell_type": "code",
   "execution_count": null,
   "metadata": {},
   "outputs": [],
   "source": [
    "# dirname = '/e/ldata/users/birnstiel/lanl_data_new/2018/'\n",
    "dirname = '/e/ldata/users/drazkowska/LA-COMPASS_planet'"
   ]
  },
  {
   "cell_type": "markdown",
   "metadata": {},
   "source": [
    "This reads in the specified directory from a sub-directory `bin_data`. The simulation parameters are parsed from the file given as `inputfile`. If keyword `fname` is given, we store the result in a hdf5 file with that name."
   ]
  },
  {
   "cell_type": "code",
   "execution_count": null,
   "metadata": {},
   "outputs": [],
   "source": [
    "d = read_data(directory=dirname, inputfile='planet2D.input.new', n=-1, fname=fname)"
   ]
  },
  {
   "cell_type": "code",
   "execution_count": null,
   "metadata": {},
   "outputs": [],
   "source": [
    "get_snapshot_numbers(fname)"
   ]
  },
  {
   "cell_type": "markdown",
   "metadata": {},
   "source": [
    "Once the hdf5 file exists, we can also read from it. By default that just opens the file and the data is read when needed. If everything is to be read at once into memory, pass the `lowmem=False` keyword."
   ]
  },
  {
   "cell_type": "code",
   "execution_count": null,
   "metadata": {
    "scrolled": true
   },
   "outputs": [],
   "source": [
    "d, f5  = read_hdf5_file(fname, n=134, lowmem=False)"
   ]
  },
  {
   "cell_type": "markdown",
   "metadata": {},
   "source": [
    "Convert to cgs units"
   ]
  },
  {
   "cell_type": "code",
   "execution_count": null,
   "metadata": {},
   "outputs": [],
   "source": [
    "dcgs = convert_to_cgs(d)"
   ]
  },
  {
   "cell_type": "markdown",
   "metadata": {},
   "source": [
    "Also read the torq file"
   ]
  },
  {
   "cell_type": "code",
   "execution_count": null,
   "metadata": {},
   "outputs": [],
   "source": [
    "dt = read_torqfile(d, Path(dirname) / 'torq1d.dat')"
   ]
  },
  {
   "cell_type": "markdown",
   "metadata": {},
   "source": [
    "# Find largest particle size\n",
    "\n",
    "**Note:** some of the methods used here require `d.sigma_d` to be a numpy array. If you used the `lowmem` keyword of `read_hdf5_file`, then you need to replace `d.sigma_d` with a "
   ]
  },
  {
   "cell_type": "code",
   "execution_count": null,
   "metadata": {},
   "outputs": [],
   "source": [
    "# define a boolean condition to determine whether the bin is considered filled or empty\n",
    "\n",
    "cond = d.sigma_d / (np.sum(d.sigma_d,-1)[:, :, None] + 1e-45) > 1e-10\n",
    "\n",
    "# find the last filled index (argmax finds the first maximum, so we invert the array)\n",
    "\n",
    "max_index = cond.shape[-1] - cond[:, :, ::-1].argmax(-1) - 1\n",
    "\n",
    "a_max = d.a[max_index]"
   ]
  },
  {
   "cell_type": "markdown",
   "metadata": {},
   "source": [
    "### Close the hdf5-file"
   ]
  },
  {
   "cell_type": "code",
   "execution_count": null,
   "metadata": {},
   "outputs": [],
   "source": [
    "f5.close()"
   ]
  },
  {
   "cell_type": "markdown",
   "metadata": {},
   "source": [
    "## Artistic gas & dust plot"
   ]
  },
  {
   "cell_type": "code",
   "execution_count": null,
   "metadata": {},
   "outputs": [],
   "source": [
    "sig_large = dcgs.sigma_d[..., dcgs.a>0.1].sum(-1)\n",
    "sig_small = dcgs.sigma_d[..., dcgs.a<1e-3].sum(-1)\n",
    "sig_g = dcgs.sigma_g.copy()\n",
    "\n",
    "# fix the phi boundary\n",
    "\n",
    "sig_g[:, -1] = sig_g[:, -2]\n",
    "sig_large[:, -1] = sig_large[:, -2]\n",
    "sig_small[:, -1] = sig_small[:, -2]"
   ]
  },
  {
   "cell_type": "code",
   "execution_count": null,
   "metadata": {},
   "outputs": [],
   "source": [
    "from astropy.visualization import SqrtStretch\n",
    "from astropy.visualization import AsinhStretch\n",
    "from astropy.visualization import LogStretch\n",
    "from astropy.visualization import LinearStretch\n",
    "from astropy.visualization import PowerStretch\n",
    "from astropy.visualization import ImageNormalize"
   ]
  },
  {
   "cell_type": "code",
   "execution_count": null,
   "metadata": {},
   "outputs": [],
   "source": [
    "# calculate the cartesian positions of the regular r/phi grid\n",
    "\n",
    "xx, yy = np.meshgrid(dcgs.x, dcgs.y)\n",
    "xy1 = xx * np.cos(yy)\n",
    "xy2 = xx * np.sin(yy)"
   ]
  },
  {
   "cell_type": "code",
   "execution_count": null,
   "metadata": {},
   "outputs": [],
   "source": [
    "from scipy.spatial import Delaunay\n",
    "from scipy.interpolate import LinearNDInterpolator\n",
    "\n",
    "# make a regular cartesian grid for interpolating an image\n",
    "\n",
    "x = np.linspace(-dcgs.x[-1], dcgs.x[-1], int(np.ceil((2 * dcgs.x[-1]) / (dcgs.x[1] - dcgs.x[0]))))\n",
    "X,Y = np.meshgrid(x, x)\n",
    "\n",
    "points = np.array([xy1, xy2]).reshape([2, -1]).T\n",
    "newpoints = np.array([X, Y]).reshape([2, -1]).T\n",
    "\n",
    "values_g = sig_g.T.ravel()\n",
    "values_lg = sig_large.T.ravel()\n",
    "values_sm = sig_small.T.ravel()\n",
    "\n",
    "# this does what griddata does, just in a way that the grid can be re-used\n",
    "tri = Delaunay(points)\n",
    "\n",
    "# Perform the interpolation with the given values:\n",
    "interpolator = LinearNDInterpolator(tri, values_g)\n",
    "newvalues_g = interpolator(newpoints).reshape(X.shape)\n",
    "\n",
    "interpolator = LinearNDInterpolator(tri, values_sm)\n",
    "newvalues_sm = interpolator(newpoints).reshape(X.shape)\n",
    "\n",
    "interpolator = LinearNDInterpolator(tri, values_lg)\n",
    "newvalues_lg = interpolator(newpoints).reshape(X.shape)\n",
    "\n",
    "# newvalues_g  = griddata(points, values_g, newpoints).reshape(X.shape)\n",
    "# newvalues_lg = griddata(points, values_lg, newpoints).reshape(X.shape)\n",
    "# newvalues_sm = griddata(points, values_sm, newpoints).reshape(X.shape)"
   ]
  },
  {
   "cell_type": "markdown",
   "metadata": {},
   "source": [
    "Gas image"
   ]
  },
  {
   "cell_type": "code",
   "execution_count": null,
   "metadata": {},
   "outputs": [],
   "source": [
    "normg = ImageNormalize(vmin=1e-1, vmax=1e2, stretch=PowerStretch(0.3), clip=True)\n",
    "\n",
    "cmap='Greys_r'\n",
    "\n",
    "f, ax = plt.subplots(figsize=(3, 3))\n",
    "ax.imshow(newvalues_g, extent=[-x[-1] / au, x[-1] / au, -x[-1] / au, x[-1] / au], cmap=cmap, norm=normg, origin='lower')\n",
    "\n",
    "xmax = np.sin(np.pi/4) * (dcgs.x[-1] / au)\n",
    "ax.set_xlim(-xmax, xmax)\n",
    "ax.set_ylim(-xmax, xmax)\n",
    "ax.set_xlabel('x [au]')\n",
    "ax.set_ylabel('y [au]');"
   ]
  },
  {
   "cell_type": "markdown",
   "metadata": {},
   "source": [
    "Define a dust norms"
   ]
  },
  {
   "cell_type": "code",
   "execution_count": null,
   "metadata": {},
   "outputs": [],
   "source": [
    "norm_sm = ImageNormalize(vmin=1e-1, vmax=1e1, stretch=PowerStretch(0.3), clip=True)\n",
    "norm_lg = ImageNormalize(vmin=1e-1, vmax=1e1, stretch=PowerStretch(0.3), clip=True)"
   ]
  },
  {
   "cell_type": "code",
   "execution_count": null,
   "metadata": {},
   "outputs": [],
   "source": [
    "norm_sm = ImageNormalize(vmin=5e-2, vmax=1e1, stretch=AsinhStretch(0.01), clip=True)\n",
    "norm_lg = ImageNormalize(vmin=5e-2, vmax=1e1, stretch=AsinhStretch(0.01), clip=True)"
   ]
  },
  {
   "cell_type": "markdown",
   "metadata": {},
   "source": [
    "Large dust image"
   ]
  },
  {
   "cell_type": "code",
   "execution_count": null,
   "metadata": {},
   "outputs": [],
   "source": [
    "f, axs = plt.subplots(1, 2, figsize=(6, 3))\n",
    "axs[0].imshow(newvalues_sm, extent=[-x[-1] / au, x[-1] / au, -x[-1] / au, x[-1] / au], cmap=cmap, norm=norm_sm)\n",
    "axs[1].imshow(newvalues_lg, extent=[-x[-1] / au, x[-1] / au, -x[-1] / au, x[-1] / au], cmap=cmap, norm=norm_lg)\n",
    "\n",
    "xmax = np.sin(np.pi/4) * (dcgs.x[-1] / au)\n",
    "\n",
    "for ax, title in zip(axs, ['small', 'large']):\n",
    "    ax.set_title(title + ' dust', fontsize='small')\n",
    "    ax.set_xlim(-xmax, xmax)\n",
    "    ax.set_ylim(-xmax, xmax)\n",
    "    ax.set_xlabel('x [au]')\n",
    "    ax.set_ylabel('y [au]')"
   ]
  },
  {
   "cell_type": "markdown",
   "metadata": {},
   "source": [
    "Define colormaps"
   ]
  },
  {
   "cell_type": "code",
   "execution_count": null,
   "metadata": {},
   "outputs": [],
   "source": [
    "cmap_b = LinearSegmentedColormap.from_list('mycmap', ['#0044FF00', '#0088FFFF'])\n",
    "sns.palplot(cmap_b(np.linspace(0, 1, 10)), size=0.3)\n",
    "\n",
    "cmap_r = LinearSegmentedColormap.from_list('mycmap', ['#FF220000', '#FF4400FF'])\n",
    "sns.palplot(cmap_r(np.linspace(0, 1, 10)), size=0.3)"
   ]
  },
  {
   "cell_type": "code",
   "execution_count": null,
   "metadata": {},
   "outputs": [],
   "source": [
    "extent = [-x[-1] / au, x[-1] / au, -x[-1] / au, x[-1] / au]\n",
    "xmax = np.sin(np.pi/4) * (dcgs.x[-1] / au)\n",
    "\n",
    "f, ax = plt.subplots()\n",
    "im1 = ax.imshow(newvalues_g, cmap='Greys', extent=extent, norm=normg)\n",
    "im3 = ax.imshow(newvalues_lg, cmap=cmap_b, extent=extent, norm=norm_lg)\n",
    "im2 = ax.imshow(newvalues_sm, cmap=cmap_r, extent=extent, norm=norm_sm)\n",
    "\n",
    "pos = ax.get_position()\n",
    "\n",
    "# make gas colorbar\n",
    "\n",
    "cax1 = f.add_axes([pos.x1, pos.y0, pos.height/20, pos.height])\n",
    "cb1 = f.colorbar(\n",
    "    im1,\n",
    "    cax=cax1,\n",
    "    ticks=[1e-2, 1e-1, 1e0, 1e1, 1e2]\n",
    ")\n",
    "cb1.ax.set_ylabel('$\\Sigma_\\mathsf{g}$ [g/cm$^2$]')\n",
    "\n",
    "# make small dust colorbar\n",
    "\n",
    "cpos = cb1.ax.get_position()\n",
    "cax2 = f.add_axes([pos.x0, pos.y1 + 2 * cpos.width, pos.width, cpos.width])\n",
    "cb2 = f.colorbar(\n",
    "    im2,\n",
    "    cax=cax2,\n",
    "    ticks=[1e-2, 1e-1, 1e0, 1e1, 1e2],\n",
    "    orientation='horizontal',\n",
    "    drawedges=False,\n",
    ")\n",
    "\n",
    "# make large dust colorbar\n",
    "\n",
    "cpos = cb2.ax.get_position()\n",
    "cax3 = f.add_axes([cpos.x0, cpos.y1, cpos.width, cpos.height])\n",
    "cb3 = f.colorbar(\n",
    "    im3,\n",
    "    cax=cax3,\n",
    "    ticks=[1e-2, 1e-1, 1e0, 1e1, 1e2],\n",
    "    orientation='horizontal',\n",
    "    drawedges=False,\n",
    ")\n",
    "cb3.ax.xaxis.set_ticks_position('top')\n",
    "cb3.ax.xaxis.set_label_position('top') \n",
    "\n",
    "# set other dust colorbar properties\n",
    "\n",
    "for cb, title in zip([cb2, cb3],['small', 'large']):\n",
    "    cb.ax.tick_params(labelsize='small')\n",
    "    cb.ax.text(\n",
    "        1.01, 0.5,\n",
    "        '$\\Sigma_\\mathsf{d, '+title+'}$ [g/cm$^2$]',\n",
    "        fontsize='x-small', rotation=0,\n",
    "        horizontalalignment='left', verticalalignment='center',\n",
    "        transform=cb.ax.transAxes\n",
    "    )\n",
    "    cb.solids.set_edgecolor('face')\n",
    "    cb.solids.set_rasterized(True)\n",
    "    \n",
    "# mask inner region\n",
    "ax.add_artist(plt.Circle((0, 0), dcgs.x[0] / au, color='w'))\n",
    "\n",
    "\n",
    "# limits, labels, annotations\n",
    "\n",
    "ax.set_xlim(-xmax, xmax)\n",
    "ax.set_ylim(-xmax, xmax)\n",
    "ax.set_xlabel('x [au]')\n",
    "ax.set_ylabel('y [au]')\n",
    "\n",
    "# planet annotation\n",
    "\n",
    "xp, yp = 3, -9.3\n",
    "ax.plot(xp, yp,'k+')\n",
    "ax.annotate(r'1 $M_\\mathrm{Jup}$ planet', xy=(xp, yp*1.03), fontsize='x-small', xycoords='data',\n",
    "            xytext=(xp, -22), textcoords='data',\n",
    "            arrowprops=dict(facecolor='black', arrowstyle='->'),\n",
    "            horizontalalignment='center', verticalalignment='top', \n",
    "            )\n",
    "\n",
    "# vortex annotation\n",
    "\n",
    "xv, yv = -15, -1.5\n",
    "ax.annotate(r'vortex', xy=(1.03 * xv, yv), fontsize='x-small', xycoords='data',\n",
    "            xytext=(0.03, 0.03), textcoords='axes fraction',\n",
    "            arrowprops=dict(\n",
    "                facecolor='black',\n",
    "                arrowstyle='->',\n",
    "                connectionstyle='angle'\n",
    "            ),\n",
    "            horizontalalignment='left', verticalalignment='bottom', \n",
    "            )\n",
    "\n",
    "# pressure bump annotation\n",
    "\n",
    "xb, yb = 0, 18\n",
    "ax.annotate(r'pressure bump', xy=(xb, yb), fontsize='x-small', xycoords='data',\n",
    "            xytext=(-0.95 * xmax, yb), textcoords='data',\n",
    "            arrowprops=dict(\n",
    "                facecolor='black',\n",
    "                arrowstyle='->',\n",
    "                connectionstyle='angle'\n",
    "            ),\n",
    "            horizontalalignment='left', verticalalignment='center', \n",
    "            )\n",
    "\n",
    "\n",
    "f.savefig('image.pdf', bbox_inches='tight', transparent=True)\n",
    "f.savefig('image.png', bbox_inches='tight', transparent=True, dpi=370)"
   ]
  }
 ],
 "metadata": {
  "kernelspec": {
   "display_name": "Python 3",
   "language": "python",
   "name": "python3"
  },
  "language_info": {
   "codemirror_mode": {
    "name": "ipython",
    "version": 3
   },
   "file_extension": ".py",
   "mimetype": "text/x-python",
   "name": "python",
   "nbconvert_exporter": "python",
   "pygments_lexer": "ipython3",
   "version": "3.8.3"
  }
 },
 "nbformat": 4,
 "nbformat_minor": 4
}
